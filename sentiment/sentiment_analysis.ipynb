{
 "cells": [
  {
   "cell_type": "code",
   "execution_count": 1,
   "metadata": {},
   "outputs": [],
   "source": [
    "import pandas as pd\n",
    "import torch\n",
    "import torch.nn as nn\n",
    "import torch.nn.functional as F\n",
    "import matplotlib.pyplot as plt\n",
    "import collections\n",
    "import sklearn.metrics"
   ]
  },
  {
   "cell_type": "code",
   "execution_count": 2,
   "metadata": {},
   "outputs": [
    {
     "data": {
      "text/html": [
       "<div>\n",
       "<style scoped>\n",
       "    .dataframe tbody tr th:only-of-type {\n",
       "        vertical-align: middle;\n",
       "    }\n",
       "\n",
       "    .dataframe tbody tr th {\n",
       "        vertical-align: top;\n",
       "    }\n",
       "\n",
       "    .dataframe thead th {\n",
       "        text-align: right;\n",
       "    }\n",
       "</style>\n",
       "<table border=\"1\" class=\"dataframe\">\n",
       "  <thead>\n",
       "    <tr style=\"text-align: right;\">\n",
       "      <th></th>\n",
       "      <th>text</th>\n",
       "      <th>review_score</th>\n",
       "    </tr>\n",
       "  </thead>\n",
       "  <tbody>\n",
       "    <tr>\n",
       "      <th>0</th>\n",
       "      <td>i wish would have gotten one earlier love it a...</td>\n",
       "      <td>2.0</td>\n",
       "    </tr>\n",
       "    <tr>\n",
       "      <th>1</th>\n",
       "      <td>i ve learned this lesson again open the packag...</td>\n",
       "      <td>1.0</td>\n",
       "    </tr>\n",
       "    <tr>\n",
       "      <th>2</th>\n",
       "      <td>it is so slow and lags find better option</td>\n",
       "      <td>1.0</td>\n",
       "    </tr>\n",
       "    <tr>\n",
       "      <th>3</th>\n",
       "      <td>roller ball stopped working within months of m...</td>\n",
       "      <td>1.0</td>\n",
       "    </tr>\n",
       "    <tr>\n",
       "      <th>4</th>\n",
       "      <td>i like the color and size but it few days out ...</td>\n",
       "      <td>1.0</td>\n",
       "    </tr>\n",
       "    <tr>\n",
       "      <th>5</th>\n",
       "      <td>overall love this mouse the size weight clicki...</td>\n",
       "      <td>2.0</td>\n",
       "    </tr>\n",
       "    <tr>\n",
       "      <th>6</th>\n",
       "      <td>it stopped working</td>\n",
       "      <td>1.0</td>\n",
       "    </tr>\n",
       "    <tr>\n",
       "      <th>7</th>\n",
       "      <td>my son uses school issued chromebook for schoo...</td>\n",
       "      <td>2.0</td>\n",
       "    </tr>\n",
       "    <tr>\n",
       "      <th>8</th>\n",
       "      <td>loved this cute little mouse but it broke afte...</td>\n",
       "      <td>0.0</td>\n",
       "    </tr>\n",
       "    <tr>\n",
       "      <th>9</th>\n",
       "      <td>should ve spent the money to get quality produ...</td>\n",
       "      <td>0.0</td>\n",
       "    </tr>\n",
       "  </tbody>\n",
       "</table>\n",
       "</div>"
      ],
      "text/plain": [
       "                                                text  review_score\n",
       "0  i wish would have gotten one earlier love it a...           2.0\n",
       "1  i ve learned this lesson again open the packag...           1.0\n",
       "2          it is so slow and lags find better option           1.0\n",
       "3  roller ball stopped working within months of m...           1.0\n",
       "4  i like the color and size but it few days out ...           1.0\n",
       "5  overall love this mouse the size weight clicki...           2.0\n",
       "6                                 it stopped working           1.0\n",
       "7  my son uses school issued chromebook for schoo...           2.0\n",
       "8  loved this cute little mouse but it broke afte...           0.0\n",
       "9  should ve spent the money to get quality produ...           0.0"
      ]
     },
     "execution_count": 2,
     "metadata": {},
     "output_type": "execute_result"
    }
   ],
   "source": [
    "# preprocessing\n",
    "data = pd.read_csv('reviews.csv')\n",
    "data = data[['cleaned_review', 'sentiments']].reset_index(drop=True)\n",
    "data = data.rename(columns={'cleaned_review': 'text', 'sentiments': 'review_score'})\n",
    "data['text'] = data['text'].astype(str)\n",
    "data['text'] = data['text'].apply(lambda x: x.strip())\n",
    "data = data[(data['text'] != '') & (data['text'] != ' ')]\n",
    "data = data[data['text'].apply(len) > 1]\n",
    "data.replace(['negative','neutral','positive'], [0.0, 1.0, 2.0], inplace=True)\n",
    "data.head(10)"
   ]
  },
  {
   "cell_type": "code",
   "execution_count": 3,
   "metadata": {},
   "outputs": [
    {
     "name": "stdout",
     "output_type": "stream",
     "text": [
      "2.0    9503\n",
      "1.0    6283\n",
      "0.0    1534\n",
      "Name: review_score, dtype: int64\n"
     ]
    },
    {
     "data": {
      "text/plain": [
       "<AxesSubplot: title={'center': 'sentiment score distribution'}>"
      ]
     },
     "execution_count": 3,
     "metadata": {},
     "output_type": "execute_result"
    },
    {
     "data": {
      "image/png": "[encoded data removed]",
      "text/plain": [
       "<Figure size 640x480 with 1 Axes>"
      ]
     },
     "metadata": {},
     "output_type": "display_data"
    }
   ],
   "source": [
    "data = data.sample(frac=1).reset_index(drop=True) # shuffle the data\n",
    "print(data[\"review_score\"].value_counts())\n",
    "data['review_score'].value_counts().plot(kind='bar', title='sentiment score distribution', rot=0)"
   ]
  },
  {
   "cell_type": "code",
   "execution_count": 4,
   "metadata": {},
   "outputs": [
    {
     "data": {
      "text/plain": [
       "[['it', 'works', 'well'],\n",
       " ['the',\n",
       "  'mouse',\n",
       "  'started',\n",
       "  'off',\n",
       "  'okay',\n",
       "  'it',\n",
       "  'worked',\n",
       "  'like',\n",
       "  'it',\n",
       "  'should',\n",
       "  'for',\n",
       "  'few',\n",
       "  'weeks',\n",
       "  'but',\n",
       "  'then',\n",
       "  'the',\n",
       "  'battery',\n",
       "  'would',\n",
       "  'not',\n",
       "  'make',\n",
       "  'it',\n",
       "  'through',\n",
       "  'my',\n",
       "  'work',\n",
       "  'day',\n",
       "  'the',\n",
       "  'charge',\n",
       "  'lasted',\n",
       "  'less',\n",
       "  'each',\n",
       "  'time',\n",
       "  'until',\n",
       "  'suddenly',\n",
       "  'it',\n",
       "  'stopped',\n",
       "  'holding',\n",
       "  'charge',\n",
       "  'like',\n",
       "  'other',\n",
       "  'reviews',\n",
       "  'state',\n",
       "  'it',\n",
       "  'stopped',\n",
       "  'working',\n",
       "  'literally',\n",
       "  'days',\n",
       "  'after',\n",
       "  'the',\n",
       "  'return',\n",
       "  'window',\n",
       "  'closed',\n",
       "  'll',\n",
       "  'be',\n",
       "  'buying',\n",
       "  'name',\n",
       "  'brand',\n",
       "  'mouse',\n",
       "  'now'],\n",
       " ['they',\n",
       "  'stopped',\n",
       "  'working',\n",
       "  'after',\n",
       "  'month',\n",
       "  'not',\n",
       "  'worth',\n",
       "  'it',\n",
       "  'sound',\n",
       "  'quality',\n",
       "  'is',\n",
       "  'not',\n",
       "  'so',\n",
       "  'great',\n",
       "  'definitely',\n",
       "  'don',\n",
       "  'recommend',\n",
       "  'for',\n",
       "  'gaming']]"
      ]
     },
     "execution_count": 4,
     "metadata": {},
     "output_type": "execute_result"
    }
   ],
   "source": [
    "X = data['text'].values\n",
    "X = [review.split(' ') for review in X]\n",
    "Y = data['review_score'].values.astype(float)\n",
    "X[:3]"
   ]
  },
  {
   "cell_type": "code",
   "execution_count": 5,
   "metadata": {},
   "outputs": [
    {
     "data": {
      "text/plain": [
       "9114"
      ]
     },
     "execution_count": 5,
     "metadata": {},
     "output_type": "execute_result"
    }
   ],
   "source": [
    "# build mappings\n",
    "words = [word for review in X for word in review]\n",
    "most_common = collections.Counter(words).most_common(round(len(set(words))*0.95)) # take 95% of the most common words\n",
    "most_common_words = [word for word, _ in most_common]\n",
    "str_to_inx = {str:inx for inx, str in enumerate(most_common_words)}\n",
    "inx_to_str = {inx:str for inx, str in enumerate(most_common_words)}\n",
    "len(str_to_inx)"
   ]
  },
  {
   "cell_type": "code",
   "execution_count": 6,
   "metadata": {},
   "outputs": [],
   "source": [
    "# build dataset\n",
    "X_set = []\n",
    "for review in X:\n",
    "    encoded_review = []\n",
    "    for word in review:\n",
    "        if word in most_common_words:\n",
    "            encoded_review.append(str_to_inx[word])\n",
    "    X_set.append(encoded_review)\n",
    "\n",
    "max_len = len(max(X_set, key=len))\n",
    "for review in X_set: \n",
    "    review.extend([0]*(max_len-len(review))) # pad with zeros"
   ]
  },
  {
   "cell_type": "code",
   "execution_count": 7,
   "metadata": {},
   "outputs": [],
   "source": [
    "device = torch.device('cuda' if torch.cuda.is_available() else 'cpu')"
   ]
  },
  {
   "cell_type": "code",
   "execution_count": 8,
   "metadata": {},
   "outputs": [
    {
     "data": {
      "text/plain": [
       "(torch.Size([17320, 565]), torch.Size([17320]))"
      ]
     },
     "execution_count": 8,
     "metadata": {},
     "output_type": "execute_result"
    }
   ],
   "source": [
    "X_set = torch.tensor(X_set, dtype=torch.long).to(device)\n",
    "Y_set = torch.tensor(Y, dtype=torch.long).to(device)\n",
    "X_set.shape, Y_set.shape"
   ]
  },
  {
   "cell_type": "code",
   "execution_count": 9,
   "metadata": {},
   "outputs": [],
   "source": [
    "# data set splits 80%, 10%, 10%\n",
    "train_range = round(len(X_set) * 0.8)\n",
    "dev_range = (len(X_set) - train_range) // 2\n",
    "\n",
    "training_set = X_set[:train_range]\n",
    "dev_set = X_set[train_range:train_range+dev_range]\n",
    "test_set = X_set[train_range+dev_range:]\n",
    "\n",
    "y_training_set = Y_set[:train_range]\n",
    "y_dev_set = Y_set[train_range:train_range+dev_range]\n",
    "y_test_set = Y_set[train_range+dev_range:]\n",
    "\n",
    "assert training_set.nelement() + dev_set.nelement() + test_set.nelement() == X_set.nelement(), \"Bad split\""
   ]
  },
  {
   "cell_type": "code",
   "execution_count": 10,
   "metadata": {},
   "outputs": [],
   "source": [
    "n_embd = 32 # dim of the character embedding vector\n",
    "n_hidden = 64 # the # of neurons in the hidden layer\n",
    "block_size = X_set.shape[1] # the length of the input vector\n",
    "vocab_size = len(inx_to_str) # the size of the vocabulary\n",
    "n_categories = 3 # the number of classes\n",
    "g = torch.Generator().manual_seed(2147483647)\n",
    "\n",
    "class MLP(nn.Module):\n",
    "    def __init__(self, vocab_size, n_embd):\n",
    "        super().__init__()\n",
    "        self.linear_tanh_stack = nn.Sequential(\n",
    "            nn.Embedding(vocab_size, n_embd), nn.Flatten(),\n",
    "            nn.Linear(block_size * n_embd, n_hidden, bias=False), nn.LayerNorm(n_hidden), nn.Dropout(p=0.25), nn.ReLU(),\n",
    "            nn.Linear(n_hidden, n_hidden, bias=False), nn.LayerNorm(n_hidden), nn.Dropout(p=0.25), nn.ReLU(),\n",
    "            nn.Linear(n_hidden, n_hidden, bias=False), nn.LayerNorm(n_hidden), nn.Dropout(p=0.25), nn.ReLU(),\n",
    "            nn.Linear(n_hidden, n_hidden, bias=False), nn.LayerNorm(n_hidden), nn.Dropout(p=0.25), nn.ReLU(),\n",
    "            nn.Linear(n_hidden, n_hidden, bias=False), nn.LayerNorm(n_hidden), nn.Dropout(p=0.25), nn.ReLU(),\n",
    "            nn.Linear(n_hidden, n_categories, bias=True)\n",
    "        )\n",
    "\n",
    "    def forward(self, x):\n",
    "        logits = self.linear_tanh_stack(x)\n",
    "        return logits"
   ]
  },
  {
   "cell_type": "code",
   "execution_count": 11,
   "metadata": {},
   "outputs": [
    {
     "name": "stdout",
     "output_type": "stream",
     "text": [
      "MLP(\n",
      "  (linear_tanh_stack): Sequential(\n",
      "    (0): Embedding(9114, 32)\n",
      "    (1): Flatten(start_dim=1, end_dim=-1)\n",
      "    (2): Linear(in_features=18080, out_features=64, bias=False)\n",
      "    (3): LayerNorm((64,), eps=1e-05, elementwise_affine=True)\n",
      "    (4): Dropout(p=0.25, inplace=False)\n",
      "    (5): ReLU()\n",
      "    (6): Linear(in_features=64, out_features=64, bias=False)\n",
      "    (7): LayerNorm((64,), eps=1e-05, elementwise_affine=True)\n",
      "    (8): Dropout(p=0.25, inplace=False)\n",
      "    (9): ReLU()\n",
      "    (10): Linear(in_features=64, out_features=64, bias=False)\n",
      "    (11): LayerNorm((64,), eps=1e-05, elementwise_affine=True)\n",
      "    (12): Dropout(p=0.25, inplace=False)\n",
      "    (13): ReLU()\n",
      "    (14): Linear(in_features=64, out_features=64, bias=False)\n",
      "    (15): LayerNorm((64,), eps=1e-05, elementwise_affine=True)\n",
      "    (16): Dropout(p=0.25, inplace=False)\n",
      "    (17): ReLU()\n",
      "    (18): Linear(in_features=64, out_features=64, bias=False)\n",
      "    (19): LayerNorm((64,), eps=1e-05, elementwise_affine=True)\n",
      "    (20): Dropout(p=0.25, inplace=False)\n",
      "    (21): ReLU()\n",
      "    (22): Linear(in_features=64, out_features=3, bias=True)\n",
      "  )\n",
      ")\n"
     ]
    }
   ],
   "source": [
    "model = MLP(vocab_size=vocab_size, n_embd=n_embd).to(device)\n",
    "print(model)"
   ]
  },
  {
   "cell_type": "code",
   "execution_count": 12,
   "metadata": {},
   "outputs": [
    {
     "data": {
      "text/plain": [
       "'Number of parameters: 1465987'"
      ]
     },
     "execution_count": 12,
     "metadata": {},
     "output_type": "execute_result"
    }
   ],
   "source": [
    "\"Number of parameters: \" + str(sum(p.nelement() for p in model.parameters()))"
   ]
  },
  {
   "cell_type": "code",
   "execution_count": 13,
   "metadata": {},
   "outputs": [],
   "source": [
    "@torch.no_grad() # disable gradient tracking\n",
    "def get_loss(model, data_set):\n",
    "    model.eval()\n",
    "    x, y = {\n",
    "        'train': (training_set, y_training_set),\n",
    "        'dev': (dev_set, y_dev_set),\n",
    "        'test': (test_set, y_test_set)\n",
    "    }[data_set]\n",
    "\n",
    "    logits = model(x)\n",
    "    loss = F.cross_entropy(logits, y)\n",
    "    return loss.item()"
   ]
  },
  {
   "cell_type": "code",
   "execution_count": 14,
   "metadata": {},
   "outputs": [],
   "source": [
    "@torch.no_grad()\n",
    "def get_accuracy_train_loop(model, set, set_labels):\n",
    "    model.eval()\n",
    "    correct = 0\n",
    "    total = set_labels.size(0)\n",
    "\n",
    "    logits = model(set)\n",
    "    probs = F.softmax(logits, dim=1)\n",
    "\n",
    "    predicted = torch.argmax(probs.data, 1)\n",
    "    correct = (predicted == set_labels).sum().item()\n",
    "\n",
    "    acc = 100 * correct // total\n",
    "    return acc"
   ]
  },
  {
   "cell_type": "code",
   "execution_count": 40,
   "metadata": {},
   "outputs": [
    {
     "name": "stdout",
     "output_type": "stream",
     "text": [
      "      0/  20000: 0.0068\n",
      "   1000/  20000: 0.0082\n",
      "   2000/  20000: 0.0032\n",
      "   3000/  20000: 0.0115\n",
      "   4000/  20000: 0.0280\n",
      "   5000/  20000: 0.0314\n",
      "   6000/  20000: 0.0221\n",
      "   7000/  20000: 0.0041\n",
      "   8000/  20000: 0.0073\n",
      "   9000/  20000: 0.0034\n",
      "  10000/  20000: 0.0160\n",
      "  11000/  20000: 0.0054\n",
      "  12000/  20000: 0.0366\n",
      "  13000/  20000: 0.0201\n",
      "  14000/  20000: 0.0027\n",
      "  15000/  20000: 0.0108\n",
      "  16000/  20000: 0.0491\n",
      "  17000/  20000: 0.0023\n",
      "  18000/  20000: 0.0082\n",
      "  19000/  20000: 0.0021\n"
     ]
    },
    {
     "data": {
      "text/plain": [
       "tensor(0.0042, device='cuda:0', grad_fn=<NllLossBackward0>)"
      ]
     },
     "execution_count": 40,
     "metadata": {},
     "output_type": "execute_result"
    }
   ],
   "source": [
    "loss_function = nn.CrossEntropyLoss()\n",
    "optimizer = torch.optim.SGD(params=model.parameters(), lr=0.0001, momentum=0.9)\n",
    "steps = 20000\n",
    "batch_size = 32\n",
    "train_acc, dev_acc = [], []\n",
    "losses, inxs, dev_loss = [], [], []\n",
    "for epoch in range(steps):\n",
    "    model.train()\n",
    "    inx = torch.randint(0, training_set.shape[0], (batch_size,), generator=g)\n",
    "    emb = training_set[inx] # grab only those rows from the minibatch \n",
    "\n",
    "    optimizer.zero_grad()\n",
    "\n",
    "    # forward pass\n",
    "    preds = model(emb)\n",
    "    loss = loss_function(preds, y_training_set[inx])\n",
    "\n",
    "    # backward pass\n",
    "    loss.backward()\n",
    "\n",
    "    # update the weights\n",
    "    optimizer.step()\n",
    "\n",
    "    #stats\n",
    "    if epoch % 1000 == 0: # print every once in a while\n",
    "        print(f'{epoch:7d}/{steps:7d}: {loss.item():.4f}')\n",
    "    if epoch % 1000 == 0:\n",
    "        dev_loss.append(get_loss(model, 'dev'))\n",
    "        losses.append(loss.item())\n",
    "        inxs.append(epoch)\n",
    "\n",
    "        train_acc.append(get_accuracy_train_loop(model, training_set, y_training_set))\n",
    "        dev_acc.append(get_accuracy_train_loop(model, dev_set, y_dev_set))\n",
    "   \n",
    "loss"
   ]
  },
  {
   "cell_type": "code",
   "execution_count": null,
   "metadata": {},
   "outputs": [],
   "source": [
    "plt.plot(inxs, losses, label='train')\n",
    "plt.plot(inxs, dev_loss, label='dev')\n",
    "plt.legend()"
   ]
  },
  {
   "cell_type": "code",
   "execution_count": null,
   "metadata": {},
   "outputs": [],
   "source": [
    "plt.plot(inxs, train_acc, label='train accuracy')\n",
    "plt.plot(inxs, dev_acc, label='dev accuracy')"
   ]
  },
  {
   "cell_type": "code",
   "execution_count": null,
   "metadata": {},
   "outputs": [],
   "source": [
    "print(get_loss(model,'train'))\n",
    "print(get_loss(model,'dev'))\n",
    "# get_loss(model,'test')"
   ]
  },
  {
   "cell_type": "code",
   "execution_count": 44,
   "metadata": {},
   "outputs": [
    {
     "name": "stdout",
     "output_type": "stream",
     "text": [
      "tensor([2, 2, 1,  ..., 2, 2, 2], device='cuda:0') tensor([2, 1, 1,  ..., 2, 2, 2], device='cuda:0')\n",
      "2    982\n",
      "1    617\n",
      "0    133\n",
      "dtype: int64\n",
      "Accuracy of the network on the 1732 test reviews: 81 %\n"
     ]
    }
   ],
   "source": [
    "# accuracy on the specified set\n",
    "@torch.no_grad()\n",
    "def get_accuracy(model, set, set_labels):\n",
    "    model.eval()\n",
    "    correct = 0\n",
    "    total = set_labels.size(0)\n",
    "\n",
    "    logits = model(set)\n",
    "    probs = F.softmax(logits, dim=1)\n",
    "\n",
    "    predicted = torch.argmax(probs.data, 1)\n",
    "    print(predicted, set_labels)\n",
    "    correct = (predicted == set_labels).sum().item()\n",
    "    print(pd.DataFrame(predicted.cpu().numpy()).value_counts())\n",
    "\n",
    "    print(f'Accuracy of the network on the {set_labels.size(0)} test reviews: {100 * correct // total} %')\n",
    "get_accuracy(model, test_set, y_test_set)"
   ]
  },
  {
   "cell_type": "code",
   "execution_count": 45,
   "metadata": {},
   "outputs": [
    {
     "data": {
      "image/png": "[encoded data removed]",
      "text/plain": [
       "<Figure size 640x480 with 2 Axes>"
      ]
     },
     "metadata": {},
     "output_type": "display_data"
    }
   ],
   "source": [
    "@torch.no_grad()\n",
    "def get_conf_matrix(model, set, set_labels):\n",
    "    model.eval()\n",
    "\n",
    "    logits = model(set)\n",
    "    probs = F.softmax(logits, dim=1)\n",
    "    predicted = torch.argmax(probs.data, dim=1)\n",
    "    cm = sklearn.metrics.confusion_matrix(y_test_set.cpu().numpy(), predicted.cpu().numpy())\n",
    "    disp = sklearn.metrics.ConfusionMatrixDisplay(cm, display_labels=['negative', 'neutral', 'positive'])\n",
    "    disp.plot()\n",
    "    \n",
    "get_conf_matrix(model, test_set, y_test_set)"
   ]
  },
  {
   "cell_type": "code",
   "execution_count": 39,
   "metadata": {},
   "outputs": [
    {
     "name": "stdout",
     "output_type": "stream",
     "text": [
      "(tensor([[9.9051e-01, 8.7301e-03, 7.6268e-04]], device='cuda:0'), 'negative')\n",
      "(tensor([[0.0029, 0.9892, 0.0079]], device='cuda:0'), 'neutral')\n",
      "(tensor([[2.1483e-04, 3.2135e-04, 9.9946e-01]], device='cuda:0'), 'positive')\n"
     ]
    }
   ],
   "source": [
    "# sample from the model\n",
    "sentiment_map = {0: 'negative', 1: 'neutral', 2: 'positive'}\n",
    "@torch.no_grad()\n",
    "def sample(model, rev):\n",
    "    model.eval()\n",
    "    rev = rev.split(' ')\n",
    "    x = torch.tensor([str_to_inx[x] for x in rev] + [0]*(X_set.shape[1]-len(rev)), dtype=torch.long).to(device)\n",
    "    x = x.view(1, -1)\n",
    "    logits = model(x)\n",
    "    probs = F.softmax(logits, dim=1)\n",
    "    predicted = torch.argmax(probs.data, dim=1)\n",
    "    return probs, sentiment_map[predicted.item()]\n",
    "\n",
    "print(sample(model, 'i hate this product'))\n",
    "print(sample(model, 'i is ok'))\n",
    "print(sample(model, 'i love this product'))"
   ]
  }
 ],
 "metadata": {
  "kernelspec": {
   "display_name": "Python 3",
   "language": "python",
   "name": "python3"
  },
  "language_info": {
   "codemirror_mode": {
    "name": "ipython",
    "version": 3
   },
   "file_extension": ".py",
   "mimetype": "text/x-python",
   "name": "python",
   "nbconvert_exporter": "python",
   "pygments_lexer": "ipython3",
   "version": "3.10.6"
  },
  "orig_nbformat": 4
 },
 "nbformat": 4,
 "nbformat_minor": 2
}
